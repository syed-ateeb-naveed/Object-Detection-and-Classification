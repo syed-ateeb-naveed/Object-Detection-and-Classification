{
 "cells": [
  {
   "cell_type": "code",
   "execution_count": 1,
   "metadata": {},
   "outputs": [],
   "source": [
    "import torch\n",
    "import clip\n",
    "from PIL import Image\n",
    "import os\n",
    "from sklearn.metrics.pairwise import cosine_similarity"
   ]
  },
  {
   "cell_type": "code",
   "execution_count": 2,
   "metadata": {},
   "outputs": [],
   "source": [
    "device = \"cuda\" if torch.cuda.is_available() else \"cpu\"\n",
    "model, preprocess = clip.load(\"ViT-B/32\", device=device)"
   ]
  },
  {
   "cell_type": "code",
   "execution_count": 3,
   "metadata": {},
   "outputs": [],
   "source": [
    "my_wallet_prompts = [\n",
    "    \"a photo of my wallet\",\n",
    "    \"an image of my wallet\",\n",
    "    \"a picture of my wallet\"\n",
    "]\n",
    "friends_wallet_prompts = [\n",
    "    \"a photo of my friend's wallet\",\n",
    "    \"an image of my friend's wallet\",\n",
    "    \"a picture of my friend's wallet\"\n",
    "]"
   ]
  },
  {
   "cell_type": "code",
   "execution_count": 12,
   "metadata": {},
   "outputs": [],
   "source": [
    "def encode_prompts(prompts):\n",
    "    text_inputs = torch.cat([clip.tokenize(prompt) for prompt in prompts]).to(device)\n",
    "    with torch.no_grad():\n",
    "        text_features = model.encode_text(text_inputs)\n",
    "    return text_features\n",
    "\n",
    "my_wallet_features = encode_prompts(my_wallet_prompts)\n",
    "friends_wallet_features = encode_prompts(friends_wallet_prompts)"
   ]
  },
  {
   "cell_type": "code",
   "execution_count": 13,
   "metadata": {},
   "outputs": [],
   "source": [
    "def encode_image(image_path):\n",
    "    image = preprocess(Image.open(image_path)).unsqueeze(0).to(device)\n",
    "    with torch.no_grad():\n",
    "        image_features = model.encode_image(image)\n",
    "    return image_features.cpu().numpy()"
   ]
  },
  {
   "cell_type": "code",
   "execution_count": 15,
   "metadata": {},
   "outputs": [],
   "source": [
    "def classify(image_path):\n",
    "    # Encode the image\n",
    "    image_features = encode_image(image_path)\n",
    "    \n",
    "    # Compute similarity with my_wallet prompts\n",
    "    my_wallet_similarity = cosine_similarity(image_features, my_wallet_features.cpu().numpy()).mean()\n",
    "    \n",
    "    # Compute similarity with friends_wallet prompts\n",
    "    friends_wallet_similarity = cosine_similarity(image_features, friends_wallet_features.cpu().numpy()).mean()\n",
    "\n",
    "    print(f\"my_wallet_similarity: {my_wallet_similarity}\")\n",
    "    print(f\"friends_wallet_similarity: {friends_wallet_similarity}\")\n",
    "    \n",
    "    # Classify based on higher similarity\n",
    "    if my_wallet_similarity > friends_wallet_similarity:\n",
    "        return \"my_wallet\"\n",
    "    else:\n",
    "        return \"friends_wallet\""
   ]
  },
  {
   "cell_type": "code",
   "execution_count": 22,
   "metadata": {},
   "outputs": [
    {
     "name": "stdout",
     "output_type": "stream",
     "text": [
      "my_wallet_similarity: 0.29621604084968567\n",
      "friends_wallet_similarity: 0.3248496651649475\n",
      "Predicted class: friends_wallet\n"
     ]
    }
   ],
   "source": [
    "test_image_path = \"IMG-20241216-WA0015.jpg\"\n",
    "\n",
    "# Classify the image\n",
    "prediction = classify(test_image_path)\n",
    "print(f\"Predicted class: {prediction}\")"
   ]
  }
 ],
 "metadata": {
  "kernelspec": {
   "display_name": "venv",
   "language": "python",
   "name": "python3"
  },
  "language_info": {
   "codemirror_mode": {
    "name": "ipython",
    "version": 3
   },
   "file_extension": ".py",
   "mimetype": "text/x-python",
   "name": "python",
   "nbconvert_exporter": "python",
   "pygments_lexer": "ipython3",
   "version": "3.12.2"
  }
 },
 "nbformat": 4,
 "nbformat_minor": 2
}
