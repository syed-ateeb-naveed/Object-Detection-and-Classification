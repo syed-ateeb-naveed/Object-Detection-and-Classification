{
 "cells": [
  {
   "cell_type": "code",
   "execution_count": null,
   "metadata": {
    "vscode": {
     "languageId": "plaintext"
    }
   },
   "outputs": [],
   "source": [
    "import torch\n",
    "import clip\n",
    "from PIL import Image\n",
    "import os\n",
    "from sklearn.metrics.pairwise import cosine_similarity\n",
    "\n",
    "# Step 1: Load CLIP model\n",
    "device = \"cuda\" if torch.cuda.is_available() else \"cpu\"\n",
    "model, preprocess = clip.load(\"ViT-B/32\", device=device)\n",
    "\n",
    "# Step 2: Define prompts for each class\n",
    "my_wallet_prompts = [\n",
    "    \"a photo of my wallet\",\n",
    "    \"an image of my wallet\",\n",
    "    \"a picture of my wallet\"\n",
    "]\n",
    "friends_wallet_prompts = [\n",
    "    \"a photo of my friend's wallet\",\n",
    "    \"an image of my friend's wallet\",\n",
    "    \"a picture of my friend's wallet\"\n",
    "]\n",
    "\n",
    "# Step 3: Encode prompts into CLIP text features\n",
    "def encode_prompts(prompts):\n",
    "    text_inputs = torch.cat([clip.tokenize(prompt) for prompt in prompts]).to(device)\n",
    "    with torch.no_grad():\n",
    "        text_features = model.encode_text(text_inputs)\n",
    "    return text_features\n",
    "\n",
    "my_wallet_features = encode_prompts(my_wallet_prompts)\n",
    "friends_wallet_features = encode_prompts(friends_wallet_prompts)\n",
    "\n",
    "# Step 4: Encode images into CLIP image features\n",
    "def encode_image(image_path):\n",
    "    image = preprocess(Image.open(image_path)).unsqueeze(0).to(device)\n",
    "    with torch.no_grad():\n",
    "        image_features = model.encode_image(image)\n",
    "    return image_features.cpu().numpy()\n",
    "\n",
    "# Step 5: Classify an image using prompt-based similarity\n",
    "def classify(image_path):\n",
    "    # Encode the image\n",
    "    image_features = encode_image(image_path)\n",
    "    \n",
    "    # Compute similarity with my_wallet prompts\n",
    "    my_wallet_similarity = cosine_similarity(image_features, my_wallet_features.cpu().numpy()).mean()\n",
    "    \n",
    "    # Compute similarity with friends_wallet prompts\n",
    "    friends_wallet_similarity = cosine_similarity(image_features, friends_wallet_features.cpu().numpy()).mean()\n",
    "    \n",
    "    # Classify based on higher similarity\n",
    "    if my_wallet_similarity > friends_wallet_similarity:\n",
    "        return \"my_wallet\"\n",
    "    else:\n",
    "        return \"friends_wallet\"\n",
    "\n",
    "# Step 6: Test the classifier\n",
    "if __name__ == \"__main__\":\n",
    "    # Replace with the path to your test image\n",
    "    test_image_path = \"test_image.jpg\"\n",
    "    \n",
    "    # Classify the image\n",
    "    prediction = classify(test_image_path)\n",
    "    print(f\"Predicted class: {prediction}\")"
   ]
  }
 ],
 "metadata": {
  "language_info": {
   "name": "python"
  }
 },
 "nbformat": 4,
 "nbformat_minor": 2
}
