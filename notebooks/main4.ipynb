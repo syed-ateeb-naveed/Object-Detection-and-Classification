{
 "cells": [
  {
   "cell_type": "code",
   "execution_count": 1,
   "metadata": {},
   "outputs": [
    {
     "name": "stdout",
     "output_type": "stream",
     "text": [
      "Accuracy: 100.00%\n"
     ]
    }
   ],
   "source": [
    "import torch\n",
    "import clip\n",
    "from PIL import Image\n",
    "import os\n",
    "import numpy as np\n",
    "from sklearn.linear_model import LogisticRegression\n",
    "from sklearn.model_selection import train_test_split\n",
    "from sklearn.metrics import accuracy_score\n",
    "\n",
    "#CLIP model\n",
    "device = \"cuda\" if torch.cuda.is_available() else \"cpu\"\n",
    "model, preprocess = clip.load(\"ViT-B/32\", device=device)\n",
    "\n",
    "\n",
    "def load_dataset(dataset_path):\n",
    "    features = []\n",
    "    labels = []\n",
    "    class_names = ['my_wallet', 'friend_wallet']  # Fixed class names\n",
    "    \n",
    "    for label, class_name in enumerate(class_names):  # Use enumerate to get both label and class_name\n",
    "        class_path = os.path.join(dataset_path, class_name)\n",
    "        for img_file in os.listdir(class_path):\n",
    "            image_path = os.path.join(class_path, img_file)\n",
    "            image = preprocess(Image.open(image_path)).unsqueeze(0).to(device)\n",
    "            with torch.no_grad():\n",
    "                image_features = model.encode_image(image).cpu().numpy()\n",
    "            features.append(image_features)\n",
    "            labels.append(label)  # Append the numerical label (0 or 1)\n",
    "    \n",
    "    return np.vstack(features), np.array(labels)\n",
    "\n",
    "dataset_path = \"dataset\"\n",
    "features, labels = load_dataset(dataset_path)\n",
    "\n",
    "X_train, X_test, y_train, y_test = train_test_split(features, labels, test_size=0.2, random_state=42)\n",
    "\n",
    "clf = LogisticRegression(random_state=42)\n",
    "clf.fit(X_train, y_train)\n",
    "\n",
    "y_pred = clf.predict(X_test)\n",
    "accuracy = accuracy_score(y_test, y_pred)\n",
    "print(f\"Accuracy: {accuracy * 100:.2f}%\")\n",
    "\n",
    "def classify(image_path):\n",
    "    image = preprocess(Image.open(image_path)).unsqueeze(0).to(device)\n",
    "    with torch.no_grad():\n",
    "        image_features = model.encode_image(image).cpu().numpy()\n",
    "    \n",
    "    prediction = clf.predict(image_features)\n",
    "    probabilities = clf.predict_proba(image_features)[0]\n",
    "    predicted_class = \"my_wallet\" if prediction[0] == 0 else \"friend_wallet\"\n",
    "    # predicted_class_index = np.argmax(probabilities)\n",
    "    # predicted_class = \"my_wallet\" if predicted_class_index == 0 else \"friends_wallet\"\n",
    "    \n",
    "    confidence_score = np.max(probabilities)\n",
    "    \n",
    "    return predicted_class, probabilities, confidence_score"
   ]
  },
  {
   "cell_type": "code",
   "execution_count": 2,
   "metadata": {},
   "outputs": [
    {
     "name": "stdout",
     "output_type": "stream",
     "text": [
      "Predicted class: ('friend_wallet', array([0.14191626, 0.85808374]), np.float64(0.8580837428527495))\n"
     ]
    }
   ],
   "source": [
    "test_image_path = \"IMG-20241216-WA0018.jpg\"\n",
    "\n",
    "# Classify the image\n",
    "prediction = classify(test_image_path)\n",
    "print(f\"Predicted class: {prediction}\")"
   ]
  }
 ],
 "metadata": {
  "kernelspec": {
   "display_name": "venv",
   "language": "python",
   "name": "python3"
  },
  "language_info": {
   "codemirror_mode": {
    "name": "ipython",
    "version": 3
   },
   "file_extension": ".py",
   "mimetype": "text/x-python",
   "name": "python",
   "nbconvert_exporter": "python",
   "pygments_lexer": "ipython3",
   "version": "3.12.2"
  }
 },
 "nbformat": 4,
 "nbformat_minor": 2
}
